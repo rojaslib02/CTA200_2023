{
 "cells": [
  {
   "cell_type": "code",
   "execution_count": 1,
   "id": "bc6a4109",
   "metadata": {},
   "outputs": [],
   "source": [
    "import numpy as np\n",
    "\n",
    "def f(x):    \n",
    "    ''' \n",
    "    Define the original function\n",
    "    ''' \n",
    "    f = (x**3)-x**2-1\n",
    "    return f\n",
    "\n",
    "\n",
    "def df(x):                  \n",
    "    '''\n",
    "    Define the derivative of the original function\n",
    "    '''\n",
    "    df = (3*x**2) - (2*x)\n",
    "    return df"
   ]
  },
  {
   "cell_type": "code",
   "execution_count": 2,
   "id": "8c362456",
   "metadata": {},
   "outputs": [],
   "source": [
    "def newton(f, df, x0, epsilon, max_iter=30):\n",
    "    '''\n",
    "    Newton Iteratoin Definition\n",
    "\n",
    "    Input: \n",
    "    f : original function \n",
    "    df : original function derivative\n",
    "        \n",
    "    x0 : initial guess for a root of f (type: float)\n",
    "    epsilon : smallest value used to divide, obeys condition: abs(f(x)) < epsilon (type: float)\n",
    "    max_iter : maximum number of iterations (type: integer)\n",
    "\n",
    "    Returns:  maximum number of iterations along with the root value as long as max number of iterations is not\n",
    "    surpassed. Otherwise, returns \"Iteration failed\"(type: float)\n",
    "    '''\n",
    "    \n",
    "    x = x0\n",
    "    for i in range(max_iter):\n",
    "        fx = f(x)\n",
    "        dfx = df(x)\n",
    "        if np.abs(fx) < epsilon:\n",
    "            print(f\"Found root in {i} iterations\")\n",
    "            return x\n",
    "        x = x - fx / dfx\n",
    "    print(\"Iteration failed. Maximum iterations exceeded.\")\n",
    "    return None\n"
   ]
  },
  {
   "cell_type": "code",
   "execution_count": 3,
   "id": "3017411e",
   "metadata": {},
   "outputs": [
    {
     "name": "stdout",
     "output_type": "stream",
     "text": [
      "Found root in 26 iterations\n",
      "Root 1: 1.4655712376690906\n",
      "Found root in 15 iterations\n",
      "Root 2: 1.4655712348572754\n",
      "Found root in 11 iterations\n",
      "Root 3: 1.4655712318769198\n",
      "Found root in 5 iterations\n",
      "Root 4: 1.4655713749070918\n"
     ]
    }
   ],
   "source": [
    "epsilon=1e-6\n",
    "\n",
    "'''\n",
    "Attempted to use the functions of part 1 with that of part 2 using various values of x0.\n",
    "\n",
    "'''\n",
    "\n",
    "\n",
    "x0_1= -10\n",
    "root1 = newton(f, df, x0_1, epsilon, max_iter=30)\n",
    "print(f\"Root 1: {root1}\")\n",
    "\n",
    "x0_2= -1\n",
    "root2 = newton(f, df, x0_2, epsilon, max_iter=30)\n",
    "print(f\"Root 2: {root2}\")\n",
    "\n",
    "\n",
    "x0_3= 0.5\n",
    "root3 = newton(f, df, x0_3, epsilon, max_iter=30)\n",
    "print(f\"Root 3: {root3}\")\n",
    "\n",
    "x0_4= 1\n",
    "root4 = newton(f, df, x0_4, epsilon, max_iter=30)\n",
    "print(f\"Root 4: {root4}\")\n"
   ]
  },
  {
   "cell_type": "code",
   "execution_count": 4,
   "id": "aa6871bc",
   "metadata": {},
   "outputs": [
    {
     "name": "stdout",
     "output_type": "stream",
     "text": [
      "Found root in 27 iterations\n",
      "Root 1: 1.465571231876768\n",
      "Found root in 16 iterations\n",
      "Root 2: 1.465571231876768\n",
      "Found root in 11 iterations\n",
      "Root 3: 1.4655712318769198\n",
      "Found root in 6 iterations\n",
      "Root 4: 1.4655712318767877\n"
     ]
    }
   ],
   "source": [
    "epsilon=1e-8\n",
    "\n",
    "'''\n",
    "Attempted to use the functions of part 1 with that of part 2 using various values of x0 and\n",
    "lowrering the value of epsilon.\n",
    "\n",
    "'''\n",
    "\n",
    "\n",
    "x0_1= -10\n",
    "root1 = newton(f, df, x0_1, epsilon, max_iter=30)\n",
    "print(f\"Root 1: {root1}\")\n",
    "\n",
    "x0_2= -1\n",
    "root2 = newton(f, df, x0_2, epsilon, max_iter=30)\n",
    "print(f\"Root 2: {root2}\")\n",
    "\n",
    "\n",
    "x0_3= 0.5\n",
    "root3 = newton(f, df, x0_3, epsilon, max_iter=30)\n",
    "print(f\"Root 3: {root3}\")\n",
    "\n",
    "x0_4= 1\n",
    "root4 = newton(f, df, x0_4, epsilon, max_iter=30)\n",
    "print(f\"Root 4: {root4}\")\n",
    "\n"
   ]
  },
  {
   "cell_type": "markdown",
   "id": "265dc2ee",
   "metadata": {},
   "source": [
    "Everything works even if epsilon is reduced; however, the number of iterations increases in general. "
   ]
  },
  {
   "cell_type": "code",
   "execution_count": null,
   "id": "3f13358a",
   "metadata": {},
   "outputs": [],
   "source": []
  }
 ],
 "metadata": {
  "kernelspec": {
   "display_name": "Python 3 (ipykernel)",
   "language": "python",
   "name": "python3"
  },
  "language_info": {
   "codemirror_mode": {
    "name": "ipython",
    "version": 3
   },
   "file_extension": ".py",
   "mimetype": "text/x-python",
   "name": "python",
   "nbconvert_exporter": "python",
   "pygments_lexer": "ipython3",
   "version": "3.10.2"
  }
 },
 "nbformat": 4,
 "nbformat_minor": 5
}
