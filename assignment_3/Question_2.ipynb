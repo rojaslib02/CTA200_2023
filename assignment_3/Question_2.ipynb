{
 "cells": [
  {
   "cell_type": "markdown",
   "id": "95152e30",
   "metadata": {},
   "source": [
    "Part 1,2 and 3"
   ]
  },
  {
   "cell_type": "code",
   "execution_count": null,
   "id": "c3605fd5",
   "metadata": {},
   "outputs": [],
   "source": [
    "import numpy as np\n",
    "import matplotlib.pyplot as plt\n",
    "from scipy.integrate import odeint\n",
    "\n",
    "def LZ(w, t, sigma, r, b):\n",
    "    \"\"\"\n",
    "    Definition of the given Lorentz equations\n",
    "\n",
    "    Inputs:\n",
    "    t: time (type: float)\n",
    "    W: current system conditions (W_0 are the initial conditions), composed of x, y, and z variables (type: list).\n",
    "    si: Prandtl number (type: float)\n",
    "    r: Rayleigh number (type: float)\n",
    "    b: dimensionless length scale (type: float)\n",
    "\n",
    "    Output:(type: list) solution to differential equations based on initial conditions and parameter values\n",
    "    \"\"\"\n",
    "    x, y, z = w\n",
    "    dxdt = si*(y - x)\n",
    "    dydt = r*x - y - x*z\n",
    "    dzdt = x*y - b*z\n",
    "    return [dxdt, dydt, dzdt]\n",
    "\n",
    "W_0 = [0.0, 1.0, 0.0]\n",
    "si = 10.0\n",
    "r = 28.0\n",
    "b = 8.0/3.0\n",
    "\n",
    "\n",
    "# Integrating function for 60 time units (dimensionless)\n",
    "\n",
    "t1 = np.linspace(0, 60, 6001)\n",
    "sol = odeint(LZ, W_0, t1, args=(si, r, b))\n",
    "\n",
    "\n",
    "# Create plot that gives the time evolution of the three variables in the same plot \n",
    "\n",
    "fig, ax = plt.subplots()\n",
    "N = t1/0.01\n",
    "\n",
    "# Each solution corresponds to one of the values of [dxdt, dydt, dzdt]\n",
    "ax.plot(N, sol[:, 0]) # X\n",
    "ax.plot(N, sol[:, 1]) # Y\n",
    "ax.plot(N, sol[:, 2]) # Z\n",
    "ax.set_xlabel('Time (dimensionless)') # time stepes axis \n",
    "ax.set_ylabel('Values') # x,y and z\n",
    "\n",
    "\n",
    "\n",
    "plt.show()\n"
   ]
  },
  {
   "cell_type": "markdown",
   "id": "24e89aba",
   "metadata": {},
   "source": [
    "Part 4"
   ]
  },
  {
   "cell_type": "code",
   "execution_count": null,
   "id": "4bf95cf3",
   "metadata": {},
   "outputs": [],
   "source": [
    "# Same initial conditions but different time scale\n",
    "t2 = np.linspace(14, 19, 1000)\n",
    "sol = odeint(LZ, W_0, t2, args=(si, r, b))\n",
    "\n",
    "fig, ax = plt.subplots()\n",
    "ax.plot(t2, sol[:, 0], label='x')\n",
    "ax.plot(t2, sol[:, 1], label='y')\n",
    "ax.plot(t2, sol[:, 2], label='z')\n",
    "ax.set_xlabel('Time')\n",
    "ax.set_ylabel('Values')\n",
    "ax.legend()\n",
    "plt.show()\n"
   ]
  },
  {
   "cell_type": "markdown",
   "id": "c17c6292",
   "metadata": {},
   "source": [
    "Part 5"
   ]
  },
  {
   "cell_type": "code",
   "execution_count": null,
   "id": "1b234e42",
   "metadata": {},
   "outputs": [],
   "source": [
    "# Calculating the difference between the initial and the slightly changed W_0\n",
    "W_02 = [0.0, 1.0 + 1e-8, 0.0]\n",
    "sol1 = odeint(LZ, W_0, t1, args=(si, r, b))\n",
    "sol2 = odeint(LZ, W_02, t1, args=(si, r, b))\n",
    "\n",
    "# Calculating distance between solutions (x,y,z vectors) at each time step \n",
    "dist = np.sqrt(np.sum((sol1 - sol2)**2, axis=1))  \n",
    "\n",
    "# Plot the distance \n",
    "fig, ax = plt.subplots()\n",
    "ax.semilogy(t1, dist)\n",
    "ax.set_xlabel('Time')\n",
    "ax.set_ylabel('Distance')\n",
    "plt.show()\n"
   ]
  }
 ],
 "metadata": {
  "kernelspec": {
   "display_name": "Python 3 (ipykernel)",
   "language": "python",
   "name": "python3"
  },
  "language_info": {
   "codemirror_mode": {
    "name": "ipython",
    "version": 3
   },
   "file_extension": ".py",
   "mimetype": "text/x-python",
   "name": "python",
   "nbconvert_exporter": "python",
   "pygments_lexer": "ipython3",
   "version": "3.10.2"
  }
 },
 "nbformat": 4,
 "nbformat_minor": 5
}
