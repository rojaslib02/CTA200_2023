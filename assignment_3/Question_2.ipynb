{
 "cells": [
  {
   "cell_type": "markdown",
   "id": "95152e30",
   "metadata": {},
   "source": [
    "Part 1,2 and 3"
   ]
  },
  {
   "cell_type": "code",
   "execution_count": null,
   "id": "c3605fd5",
   "metadata": {},
   "outputs": [],
   "source": [
    "import numpy as np\n",
    "import matplotlib.pyplot as plt\n",
    "from scipy.integrate import odeint\n",
    "\n",
    "def LZ(w, t, si, r, b):\n",
    "    \"\"\"\n",
    "    Definition of the given Lorentz equations\n",
    "\n",
    "    Inputs:\n",
    "    t: time (type: float)\n",
    "    W: current system conditions (W_0 are the initial conditions), composed of x, y, and z variables (type: list).\n",
    "    si: Prandtl number (type: float)\n",
    "    r: Rayleigh number (type: float)\n",
    "    b: dimensionless length scale (type: float)\n",
    "\n",
    "    Output:(type: list) solution to differential equations based on initial conditions and parameter values\n",
    "    \"\"\"\n",
    "    x, y, z = w\n",
    "    dxdt = si*(y - x)\n",
    "    dydt = r*x - y - x*z\n",
    "    dzdt = x*y - b*z\n",
    "    return [dxdt, dydt, dzdt]\n",
    "\n",
    "w0 = [0.0, 1.0, 0.0]\n",
    "si = 10.0\n",
    "r = 28.0\n",
    "b = 8.0/3.0\n",
    "\n",
    "t = np.linspace(0, 60, 6001)\n",
    "\n",
    "# Solve ODE using odeint\n",
    "sol = odeint(LZ, w0, t, args=(si, r, b))\n",
    "\n",
    "delta_t = 0.01\n",
    "N=t/delta_t\n",
    "\n",
    "fig, ax = plt.subplots(3, 1, figsize=(8, 10))\n",
    "\n",
    "# Plotting the three figures with the requested iteration values\n",
    "ax[0].plot(N[:1000], sol[:1000, 1])\n",
    "ax[0].set_xlabel('Time')\n",
    "\n",
    "ax[1].plot(N[1000:2000], sol[1000:2000, 1])\n",
    "ax[1].set_xlabel('Time')\n",
    "\n",
    "ax[2].plot(N[2000:3000], sol[2000:3000, 1])\n",
    "ax[2].set_xlabel('Time')\n",
    "\n",
    "plt.tight_layout()\n",
    "plt.show()\n",
    "\n"
   ]
  },
  {
   "cell_type": "markdown",
   "id": "24e89aba",
   "metadata": {},
   "source": [
    "Part 4"
   ]
  },
  {
   "cell_type": "code",
   "execution_count": null,
   "id": "4bf95cf3",
   "metadata": {},
   "outputs": [],
   "source": [
    "# Same initial conditions but changing the planes to reproduced the wanted plots\n",
    "W_0 = [0.0, 1.0, 0.0]\n",
    "t1 = np.linspace(0, 60, 6001)\n",
    "sol = odeint(LZ, W_0, t1, args=(si, r, b))\n",
    "\n",
    "# Plot y vs. z\n",
    "fig, ax = plt.subplots()\n",
    "ax.plot(sol[:, 1], sol[:, 2])\n",
    "ax.set(xlabel='y', ylabel='z')\n",
    "\n",
    "# Plot x vs. y\n",
    "fig, ax = plt.subplots()\n",
    "ax.plot(sol[:, 0], sol[:, 1])\n",
    "ax.set(xlabel='x', ylabel='y')\n",
    "plt.show()\n"
   ]
  },
  {
   "cell_type": "markdown",
   "id": "c17c6292",
   "metadata": {},
   "source": [
    "Part 5"
   ]
  },
  {
   "cell_type": "code",
   "execution_count": null,
   "id": "1b234e42",
   "metadata": {},
   "outputs": [],
   "source": [
    "# Calculating the difference between the initial and the slightly changed W_0\n",
    "W_02 = [0.0, 1.0 + 1e-8, 0.0]\n",
    "sol1 = odeint(LZ, W_0, t1, args=(si, r, b))\n",
    "sol2 = odeint(LZ, W_02, t1, args=(si, r, b))\n",
    "\n",
    "# Calculating distance between solutions (x,y,z vectors) at each time step \n",
    "d = np.sqrt(np.sum((sol1 - sol2)**2, axis=1))  \n",
    "\n",
    "# Plot the distance \n",
    "fig, ax = plt.subplots()\n",
    "ax.semilogy(t1, d)\n",
    "ax.set_xlabel('Time')\n",
    "ax.set_ylabel('Distance')\n",
    "plt.show()\n",
    "\n"
   ]
  }
 ],
 "metadata": {
  "kernelspec": {
   "display_name": "Python 3 (ipykernel)",
   "language": "python",
   "name": "python3"
  },
  "language_info": {
   "codemirror_mode": {
    "name": "ipython",
    "version": 3
   },
   "file_extension": ".py",
   "mimetype": "text/x-python",
   "name": "python",
   "nbconvert_exporter": "python",
   "pygments_lexer": "ipython3",
   "version": "3.10.2"
  }
 },
 "nbformat": 4,
 "nbformat_minor": 5
}
